{
  "nbformat": 4,
  "nbformat_minor": 0,
  "metadata": {
    "colab": {
      "provenance": []
    },
    "kernelspec": {
      "name": "python3",
      "display_name": "Python 3"
    },
    "language_info": {
      "name": "python"
    }
  },
  "cells": [
    {
      "cell_type": "code",
      "source": [
        "# Import libraries\n",
        "import numpy as np\n",
        "import matplotlib.pyplot as plt\n",
        "import pandas as pd\n",
        "from sklearn.model_selection import train_test_split\n",
        "from sklearn.preprocessing import StandardScaler\n",
        "from sklearn.linear_model import LogisticRegression\n",
        "from sklearn.metrics import confusion_matrix\n",
        "from matplotlib.colors import ListedColormap\n",
        "\n",
        "# Load dataset\n",
        "dataset = pd.read_csv(\"/content/Automobile_data.csv\")\n",
        "\n",
        "# Replace '?' with NaN and convert relevant columns to numeric\n",
        "dataset.replace('?', np.nan, inplace=True)\n",
        "dataset['horsepower'] = pd.to_numeric(dataset['horsepower'], errors='coerce')\n",
        "dataset['engine-size'] = pd.to_numeric(dataset['engine-size'], errors='coerce')\n",
        "dataset['price'] = pd.to_numeric(dataset['price'], errors='coerce')\n",
        "\n",
        "# Drop rows with NaNs in columns we need\n",
        "dataset = dataset.dropna(subset=['horsepower', 'engine-size', 'price'])\n",
        "\n",
        "# Select features and target\n",
        "X = dataset[['horsepower', 'engine-size']].values\n",
        "y = (dataset['price'] > 10000).astype(int).values  # Example: Binary target for cars above $10,000\n",
        "\n",
        "# Split dataset\n",
        "X_train, X_test, y_train, y_test = train_test_split(X, y, test_size=0.25, random_state=0)\n",
        "\n",
        "# Scale features\n",
        "sc_X = StandardScaler()\n",
        "X_train = sc_X.fit_transform(X_train)\n",
        "X_test = sc_X.transform(X_test)\n",
        "\n",
        "# Train Logistic Regression model\n",
        "classifier = LogisticRegression(random_state=0)\n",
        "classifier.fit(X_train, y_train)\n",
        "\n",
        "# Predict and evaluate\n",
        "y_pred = classifier.predict(X_test)\n",
        "cm = confusion_matrix(y_test, y_pred)\n",
        "accuracy = classifier.score(X_test, y_test)\n",
        "\n",
        "# Print results\n",
        "print(\"Confusion Matrix:\\n\", cm)\n",
        "print(\"Model Accuracy:\", accuracy * 100, \"%\")\n"
      ],
      "metadata": {
        "colab": {
          "base_uri": "https://localhost:8080/"
        },
        "id": "bzdLtsjDySg6",
        "outputId": "9f202b02-84b1-4e6d-8d83-cd9e2c6aa40e"
      },
      "execution_count": 4,
      "outputs": [
        {
          "output_type": "stream",
          "name": "stdout",
          "text": [
            "Confusion Matrix:\n",
            " [[20  3]\n",
            " [ 4 23]]\n",
            "Model Accuracy: 86.0 %\n"
          ]
        }
      ]
    }
  ]
}